{
 "cells": [
  {
   "cell_type": "code",
   "execution_count": 1,
   "metadata": {},
   "outputs": [
    {
     "name": "stderr",
     "output_type": "stream",
     "text": [
      "Using TensorFlow backend.\n"
     ]
    }
   ],
   "source": [
    "import numpy as np\n",
    "from data_utils import *"
   ]
  },
  {
   "cell_type": "code",
   "execution_count": 2,
   "metadata": {},
   "outputs": [
    {
     "name": "stdout",
     "output_type": "stream",
     "text": [
      "(900, 384, 256, 3) (900, 384, 256, 4)\n",
      "(100, 384, 256, 3) (100, 384, 256, 4)\n"
     ]
    }
   ],
   "source": [
    "IMG_HEIGHT = 384\n",
    "IMG_WIDTH = 256\n",
    "BATCH_SIZE = 8\n",
    "\n",
    "x_train = np.load('dataset/x_train.npy').astype(np.float32)\n",
    "x_test = np.load('dataset/x_test.npy').astype(np.float32)\n",
    "y_train = np.load('dataset/y_train_onehot.npy').astype(np.float32)\n",
    "y_test = np.load('dataset/y_test_onehot.npy').astype(np.float32)\n",
    "\n",
    "print(x_train.shape, y_train.shape)\n",
    "print(x_test.shape, y_test.shape)"
   ]
  },
  {
   "cell_type": "code",
   "execution_count": 3,
   "metadata": {},
   "outputs": [],
   "source": [
    "from models.FCN import *"
   ]
  },
  {
   "cell_type": "code",
   "execution_count": 4,
   "metadata": {},
   "outputs": [],
   "source": [
    "model = FCN8s(img_shape = x_train[0].shape, num_of_class = 4,learning_rate = 1e-3)"
   ]
  },
  {
   "cell_type": "code",
   "execution_count": 5,
   "metadata": {
    "scrolled": false
   },
   "outputs": [
    {
     "name": "stdout",
     "output_type": "stream",
     "text": [
      "__________________________________________________________________________________________________\n",
      "Layer (type)                    Output Shape         Param #     Connected to                     \n",
      "==================================================================================================\n",
      "input_1 (InputLayer)            (None, 384, 256, 3)  0                                            \n",
      "__________________________________________________________________________________________________\n",
      "block1_conv1 (Conv2D)           (None, 384, 256, 64) 1792        input_1[0][0]                    \n",
      "__________________________________________________________________________________________________\n",
      "block1_conv2 (Conv2D)           (None, 384, 256, 64) 36928       block1_conv1[0][0]               \n",
      "__________________________________________________________________________________________________\n",
      "block1_pool (MaxPooling2D)      (None, 192, 128, 64) 0           block1_conv2[0][0]               \n",
      "__________________________________________________________________________________________________\n",
      "block2_conv1 (Conv2D)           (None, 192, 128, 128 73856       block1_pool[0][0]                \n",
      "__________________________________________________________________________________________________\n",
      "block2_conv2 (Conv2D)           (None, 192, 128, 128 147584      block2_conv1[0][0]               \n",
      "__________________________________________________________________________________________________\n",
      "block2_pool (MaxPooling2D)      (None, 96, 64, 128)  0           block2_conv2[0][0]               \n",
      "__________________________________________________________________________________________________\n",
      "block3_conv1 (Conv2D)           (None, 96, 64, 256)  295168      block2_pool[0][0]                \n",
      "__________________________________________________________________________________________________\n",
      "block3_conv2 (Conv2D)           (None, 96, 64, 256)  590080      block3_conv1[0][0]               \n",
      "__________________________________________________________________________________________________\n",
      "block3_conv3 (Conv2D)           (None, 96, 64, 256)  590080      block3_conv2[0][0]               \n",
      "__________________________________________________________________________________________________\n",
      "block3_pool (MaxPooling2D)      (None, 48, 32, 256)  0           block3_conv3[0][0]               \n",
      "__________________________________________________________________________________________________\n",
      "block4_conv1 (Conv2D)           (None, 48, 32, 512)  1180160     block3_pool[0][0]                \n",
      "__________________________________________________________________________________________________\n",
      "block4_conv2 (Conv2D)           (None, 48, 32, 512)  2359808     block4_conv1[0][0]               \n",
      "__________________________________________________________________________________________________\n",
      "block4_conv3 (Conv2D)           (None, 48, 32, 512)  2359808     block4_conv2[0][0]               \n",
      "__________________________________________________________________________________________________\n",
      "block4_pool (MaxPooling2D)      (None, 24, 16, 512)  0           block4_conv3[0][0]               \n",
      "__________________________________________________________________________________________________\n",
      "block5_conv1 (Conv2D)           (None, 24, 16, 512)  2359808     block4_pool[0][0]                \n",
      "__________________________________________________________________________________________________\n",
      "block5_conv2 (Conv2D)           (None, 24, 16, 512)  2359808     block5_conv1[0][0]               \n",
      "__________________________________________________________________________________________________\n",
      "block5_conv3 (Conv2D)           (None, 24, 16, 512)  2359808     block5_conv2[0][0]               \n",
      "__________________________________________________________________________________________________\n",
      "block5_pool (MaxPooling2D)      (None, 12, 8, 512)   0           block5_conv3[0][0]               \n",
      "__________________________________________________________________________________________________\n",
      "conv6 (Conv2D)                  (None, 12, 8, 4096)  102764544   block5_pool[0][0]                \n",
      "__________________________________________________________________________________________________\n",
      "conv7 (Conv2D)                  (None, 12, 8, 4096)  16781312    conv6[0][0]                      \n",
      "__________________________________________________________________________________________________\n",
      "conv8 (Conv2D)                  (None, 12, 8, 4)     16388       conv7[0][0]                      \n",
      "__________________________________________________________________________________________________\n",
      "skip_pool4 (Conv2D)             (None, 24, 16, 4)    2052        block4_pool[0][0]                \n",
      "__________________________________________________________________________________________________\n",
      "skip_pool5 (Conv2DTranspose)    (None, 24, 16, 4)    260         conv8[0][0]                      \n",
      "__________________________________________________________________________________________________\n",
      "add_1 (Add)                     (None, 24, 16, 4)    0           skip_pool4[0][0]                 \n",
      "                                                                 skip_pool5[0][0]                 \n",
      "__________________________________________________________________________________________________\n",
      "skip_pool3 (Conv2D)             (None, 48, 32, 4)    1028        block3_pool[0][0]                \n",
      "__________________________________________________________________________________________________\n",
      "skip_sum1 (Conv2DTranspose)     (None, 48, 32, 4)    260         add_1[0][0]                      \n",
      "__________________________________________________________________________________________________\n",
      "add_2 (Add)                     (None, 48, 32, 4)    0           skip_pool3[0][0]                 \n",
      "                                                                 skip_sum1[0][0]                  \n",
      "__________________________________________________________________________________________________\n",
      "skip_sum2 (Conv2DTranspose)     (None, 384, 256, 4)  4100        add_2[0][0]                      \n",
      "__________________________________________________________________________________________________\n",
      "conv2d_1 (Conv2D)               (None, 384, 256, 4)  20          skip_sum2[0][0]                  \n",
      "__________________________________________________________________________________________________\n",
      "activation_1 (Activation)       (None, 384, 256, 4)  0           conv2d_1[0][0]                   \n",
      "==================================================================================================\n",
      "Total params: 134,284,652\n",
      "Trainable params: 119,569,964\n",
      "Non-trainable params: 14,714,688\n",
      "__________________________________________________________________________________________________\n",
      "None\n"
     ]
    }
   ],
   "source": [
    "model.show_model()"
   ]
  },
  {
   "cell_type": "code",
   "execution_count": 6,
   "metadata": {
    "scrolled": false
   },
   "outputs": [
    {
     "name": "stdout",
     "output_type": "stream",
     "text": [
      "input_1 False\n",
      "block1_conv1 False\n",
      "block1_conv2 False\n",
      "block1_pool False\n",
      "block2_conv1 False\n",
      "block2_conv2 False\n",
      "block2_pool False\n",
      "block3_conv1 False\n",
      "block3_conv2 False\n",
      "block3_conv3 False\n",
      "block3_pool False\n",
      "block4_conv1 False\n",
      "block4_conv2 False\n",
      "block4_conv3 False\n",
      "block4_pool False\n",
      "block5_conv1 False\n",
      "block5_conv2 False\n",
      "block5_conv3 False\n",
      "block5_pool False\n",
      "conv6 True\n",
      "conv7 True\n",
      "conv8 True\n",
      "skip_pool4 True\n",
      "skip_pool5 True\n",
      "add_1 True\n",
      "skip_pool3 True\n",
      "skip_sum1 True\n",
      "add_2 True\n",
      "skip_sum2 True\n",
      "conv2d_1 True\n",
      "activation_1 True\n"
     ]
    }
   ],
   "source": [
    "for layer in model.model.layers:\n",
    "    print(layer.name, layer.trainable)"
   ]
  },
  {
   "cell_type": "code",
   "execution_count": 7,
   "metadata": {
    "scrolled": false
   },
   "outputs": [
    {
     "name": "stdout",
     "output_type": "stream",
     "text": [
      "Epoch 1/50\n",
      "113/113 [==============================] - 62s 549ms/step - loss: 0.5436 - acc: 0.7346 - val_loss: 0.3780 - val_acc: 0.8052\n",
      "\n",
      "Epoch 00001: val_acc improved from -inf to 0.80521, saving model to ./save_model/FCN_model.h5\n",
      "Epoch 2/50\n",
      "113/113 [==============================] - 45s 399ms/step - loss: 0.2911 - acc: 0.8830 - val_loss: 0.2451 - val_acc: 0.9073\n",
      "\n",
      "Epoch 00002: val_acc improved from 0.80521 to 0.90726, saving model to ./save_model/FCN_model.h5\n",
      "Epoch 3/50\n",
      "113/113 [==============================] - 45s 395ms/step - loss: 0.2163 - acc: 0.9172 - val_loss: 0.2151 - val_acc: 0.9188\n",
      "\n",
      "Epoch 00003: val_acc improved from 0.90726 to 0.91881, saving model to ./save_model/FCN_model.h5\n",
      "Epoch 4/50\n",
      "113/113 [==============================] - 48s 424ms/step - loss: 0.1938 - acc: 0.9239 - val_loss: 0.2036 - val_acc: 0.9221\n",
      "\n",
      "Epoch 00004: val_acc improved from 0.91881 to 0.92207, saving model to ./save_model/FCN_model.h5\n",
      "Epoch 5/50\n",
      "113/113 [==============================] - 44s 387ms/step - loss: 0.1811 - acc: 0.9277 - val_loss: 0.1980 - val_acc: 0.9235\n",
      "\n",
      "Epoch 00005: val_acc improved from 0.92207 to 0.92352, saving model to ./save_model/FCN_model.h5\n",
      "Epoch 6/50\n",
      "113/113 [==============================] - 44s 389ms/step - loss: 0.1710 - acc: 0.9310 - val_loss: 0.1925 - val_acc: 0.9253\n",
      "\n",
      "Epoch 00006: val_acc improved from 0.92352 to 0.92533, saving model to ./save_model/FCN_model.h5\n",
      "Epoch 7/50\n",
      "113/113 [==============================] - 44s 386ms/step - loss: 0.1631 - acc: 0.9340 - val_loss: 0.1915 - val_acc: 0.9281\n",
      "\n",
      "Epoch 00007: val_acc improved from 0.92533 to 0.92809, saving model to ./save_model/FCN_model.h5\n",
      "Epoch 8/50\n",
      "113/113 [==============================] - 44s 386ms/step - loss: 0.1551 - acc: 0.9382 - val_loss: 0.1872 - val_acc: 0.9303\n",
      "\n",
      "Epoch 00008: val_acc improved from 0.92809 to 0.93033, saving model to ./save_model/FCN_model.h5\n",
      "Epoch 9/50\n",
      "113/113 [==============================] - 44s 393ms/step - loss: 0.1484 - acc: 0.9425 - val_loss: 0.1839 - val_acc: 0.9320\n",
      "\n",
      "Epoch 00009: val_acc improved from 0.93033 to 0.93196, saving model to ./save_model/FCN_model.h5\n",
      "Epoch 10/50\n",
      "113/113 [==============================] - 48s 422ms/step - loss: 0.1422 - acc: 0.9460 - val_loss: 0.1779 - val_acc: 0.9366\n",
      "\n",
      "Epoch 00010: val_acc improved from 0.93196 to 0.93660, saving model to ./save_model/FCN_model.h5\n",
      "Epoch 11/50\n",
      "113/113 [==============================] - 45s 400ms/step - loss: 0.1356 - acc: 0.9493 - val_loss: 0.1792 - val_acc: 0.9400\n",
      "\n",
      "Epoch 00011: val_acc improved from 0.93660 to 0.93996, saving model to ./save_model/FCN_model.h5\n",
      "Epoch 12/50\n",
      "113/113 [==============================] - 48s 427ms/step - loss: 0.1315 - acc: 0.9515 - val_loss: 0.1694 - val_acc: 0.9423\n",
      "\n",
      "Epoch 00012: val_acc improved from 0.93996 to 0.94226, saving model to ./save_model/FCN_model.h5\n",
      "Epoch 13/50\n",
      "113/113 [==============================] - 49s 433ms/step - loss: 0.1244 - acc: 0.9544 - val_loss: 0.1692 - val_acc: 0.9427\n",
      "\n",
      "Epoch 00013: val_acc improved from 0.94226 to 0.94275, saving model to ./save_model/FCN_model.h5\n",
      "Epoch 14/50\n",
      "113/113 [==============================] - 45s 401ms/step - loss: 0.1195 - acc: 0.9560 - val_loss: 0.1608 - val_acc: 0.9438\n",
      "\n",
      "Epoch 00014: val_acc improved from 0.94275 to 0.94382, saving model to ./save_model/FCN_model.h5\n",
      "Epoch 15/50\n",
      "113/113 [==============================] - 49s 436ms/step - loss: 0.1148 - acc: 0.9577 - val_loss: 0.1640 - val_acc: 0.9442\n",
      "\n",
      "Epoch 00015: val_acc improved from 0.94382 to 0.94418, saving model to ./save_model/FCN_model.h5\n",
      "Epoch 16/50\n",
      "113/113 [==============================] - 52s 462ms/step - loss: 0.1113 - acc: 0.9591 - val_loss: 0.1597 - val_acc: 0.9458\n",
      "\n",
      "Epoch 00016: val_acc improved from 0.94418 to 0.94577, saving model to ./save_model/FCN_model.h5\n",
      "Epoch 17/50\n",
      "113/113 [==============================] - 54s 474ms/step - loss: 0.1092 - acc: 0.9601 - val_loss: 0.1617 - val_acc: 0.9473\n",
      "\n",
      "Epoch 00017: val_acc improved from 0.94577 to 0.94734, saving model to ./save_model/FCN_model.h5\n",
      "Epoch 18/50\n",
      "113/113 [==============================] - 54s 476ms/step - loss: 0.1053 - acc: 0.9614 - val_loss: 0.1573 - val_acc: 0.9476\n",
      "\n",
      "Epoch 00018: val_acc improved from 0.94734 to 0.94762, saving model to ./save_model/FCN_model.h5\n",
      "Epoch 19/50\n",
      "113/113 [==============================] - 54s 474ms/step - loss: 0.1000 - acc: 0.9634 - val_loss: 0.1568 - val_acc: 0.9483\n",
      "\n",
      "Epoch 00019: val_acc improved from 0.94762 to 0.94829, saving model to ./save_model/FCN_model.h5\n",
      "Epoch 20/50\n",
      "113/113 [==============================] - 53s 472ms/step - loss: 0.0969 - acc: 0.9644 - val_loss: 0.1542 - val_acc: 0.9489\n",
      "\n",
      "Epoch 00020: val_acc improved from 0.94829 to 0.94890, saving model to ./save_model/FCN_model.h5\n",
      "Epoch 21/50\n",
      "113/113 [==============================] - 54s 474ms/step - loss: 0.0959 - acc: 0.9645 - val_loss: 0.1524 - val_acc: 0.9495\n",
      "\n",
      "Epoch 00021: val_acc improved from 0.94890 to 0.94946, saving model to ./save_model/FCN_model.h5\n",
      "Epoch 22/50\n",
      "113/113 [==============================] - 51s 449ms/step - loss: 0.0940 - acc: 0.9651 - val_loss: 0.1508 - val_acc: 0.9493\n",
      "\n",
      "Epoch 00022: val_acc did not improve from 0.94946\n",
      "Epoch 23/50\n",
      "113/113 [==============================] - 45s 395ms/step - loss: 0.0906 - acc: 0.9661 - val_loss: 0.1531 - val_acc: 0.9496\n",
      "\n",
      "Epoch 00023: val_acc improved from 0.94946 to 0.94957, saving model to ./save_model/FCN_model.h5\n",
      "Epoch 24/50\n",
      "113/113 [==============================] - 50s 441ms/step - loss: 0.0876 - acc: 0.9672 - val_loss: 0.1535 - val_acc: 0.9508\n",
      "\n",
      "Epoch 00024: val_acc improved from 0.94957 to 0.95079, saving model to ./save_model/FCN_model.h5\n",
      "Epoch 25/50\n",
      "113/113 [==============================] - 46s 410ms/step - loss: 0.0853 - acc: 0.9681 - val_loss: 0.1537 - val_acc: 0.9511\n",
      "\n",
      "Epoch 00025: val_acc improved from 0.95079 to 0.95105, saving model to ./save_model/FCN_model.h5\n",
      "Epoch 26/50\n",
      "113/113 [==============================] - 45s 400ms/step - loss: 0.0824 - acc: 0.9690 - val_loss: 0.1517 - val_acc: 0.9510\n",
      "\n",
      "Epoch 00026: val_acc did not improve from 0.95105\n",
      "Epoch 27/50\n",
      "113/113 [==============================] - 45s 398ms/step - loss: 0.0807 - acc: 0.9697 - val_loss: 0.1457 - val_acc: 0.9521\n",
      "\n",
      "Epoch 00027: val_acc improved from 0.95105 to 0.95213, saving model to ./save_model/FCN_model.h5\n",
      "Epoch 28/50\n",
      "113/113 [==============================] - 47s 419ms/step - loss: 0.0796 - acc: 0.9701 - val_loss: 0.1512 - val_acc: 0.9523\n",
      "\n",
      "Epoch 00028: val_acc improved from 0.95213 to 0.95225, saving model to ./save_model/FCN_model.h5\n",
      "Epoch 29/50\n",
      "113/113 [==============================] - 47s 417ms/step - loss: 0.0777 - acc: 0.9707 - val_loss: 0.1514 - val_acc: 0.9523\n",
      "\n",
      "Epoch 00029: val_acc improved from 0.95225 to 0.95228, saving model to ./save_model/FCN_model.h5\n",
      "Epoch 30/50\n",
      "113/113 [==============================] - 45s 400ms/step - loss: 0.0767 - acc: 0.9712 - val_loss: 0.1516 - val_acc: 0.9531\n",
      "\n",
      "Epoch 00030: val_acc improved from 0.95228 to 0.95310, saving model to ./save_model/FCN_model.h5\n",
      "Epoch 31/50\n",
      "113/113 [==============================] - 45s 399ms/step - loss: 0.0758 - acc: 0.9714 - val_loss: 0.1563 - val_acc: 0.9518\n",
      "\n",
      "Epoch 00031: val_acc did not improve from 0.95310\n",
      "Epoch 32/50\n",
      "113/113 [==============================] - 48s 425ms/step - loss: 0.0744 - acc: 0.9719 - val_loss: 0.1497 - val_acc: 0.9535\n",
      "\n",
      "Epoch 00032: val_acc improved from 0.95310 to 0.95346, saving model to ./save_model/FCN_model.h5\n",
      "Epoch 33/50\n",
      "113/113 [==============================] - 45s 397ms/step - loss: 0.0736 - acc: 0.9722 - val_loss: 0.1462 - val_acc: 0.9537\n",
      "\n",
      "Epoch 00033: val_acc improved from 0.95346 to 0.95367, saving model to ./save_model/FCN_model.h5\n",
      "Epoch 34/50\n",
      "113/113 [==============================] - 45s 403ms/step - loss: 0.0724 - acc: 0.9726 - val_loss: 0.1531 - val_acc: 0.9540\n",
      "\n",
      "Epoch 00034: val_acc improved from 0.95367 to 0.95400, saving model to ./save_model/FCN_model.h5\n",
      "Epoch 35/50\n",
      "113/113 [==============================] - 45s 394ms/step - loss: 0.0713 - acc: 0.9730 - val_loss: 0.1492 - val_acc: 0.9543\n",
      "\n",
      "Epoch 00035: val_acc improved from 0.95400 to 0.95428, saving model to ./save_model/FCN_model.h5\n",
      "Epoch 36/50\n",
      "113/113 [==============================] - 49s 438ms/step - loss: 0.0705 - acc: 0.9733 - val_loss: 0.1479 - val_acc: 0.9545\n",
      "\n",
      "Epoch 00036: val_acc improved from 0.95428 to 0.95445, saving model to ./save_model/FCN_model.h5\n"
     ]
    },
    {
     "name": "stdout",
     "output_type": "stream",
     "text": [
      "Epoch 37/50\n",
      "113/113 [==============================] - 46s 410ms/step - loss: 0.0698 - acc: 0.9735 - val_loss: 0.1484 - val_acc: 0.9537\n",
      "\n",
      "Epoch 00037: val_acc did not improve from 0.95445\n",
      "Epoch 38/50\n",
      "113/113 [==============================] - 48s 423ms/step - loss: 0.0695 - acc: 0.9737 - val_loss: 0.1506 - val_acc: 0.9548\n",
      "\n",
      "Epoch 00038: val_acc improved from 0.95445 to 0.95483, saving model to ./save_model/FCN_model.h5\n",
      "Epoch 39/50\n",
      "113/113 [==============================] - 49s 434ms/step - loss: 0.0696 - acc: 0.9736 - val_loss: 0.1532 - val_acc: 0.9528\n",
      "\n",
      "Epoch 00039: val_acc did not improve from 0.95483\n",
      "Epoch 40/50\n",
      "113/113 [==============================] - 49s 435ms/step - loss: 0.0691 - acc: 0.9737 - val_loss: 0.1478 - val_acc: 0.9534\n",
      "\n",
      "Epoch 00040: val_acc did not improve from 0.95483\n",
      "Epoch 41/50\n",
      "113/113 [==============================] - 49s 433ms/step - loss: 0.0670 - acc: 0.9746 - val_loss: 0.1507 - val_acc: 0.9549\n",
      "\n",
      "Epoch 00041: val_acc improved from 0.95483 to 0.95485, saving model to ./save_model/FCN_model.h5\n",
      "Epoch 42/50\n",
      "113/113 [==============================] - 49s 433ms/step - loss: 0.0667 - acc: 0.9747 - val_loss: 0.1506 - val_acc: 0.9533\n",
      "\n",
      "Epoch 00042: val_acc did not improve from 0.95485\n",
      "Epoch 43/50\n",
      "113/113 [==============================] - 49s 438ms/step - loss: 0.0662 - acc: 0.9748 - val_loss: 0.1506 - val_acc: 0.9533\n",
      "\n",
      "Epoch 00043: val_acc did not improve from 0.95485\n",
      "\n",
      "Epoch 00043: ReduceLROnPlateau reducing learning rate to 0.00020000000949949026.\n",
      "Epoch 44/50\n",
      "113/113 [==============================] - 49s 434ms/step - loss: 0.0631 - acc: 0.9761 - val_loss: 0.1503 - val_acc: 0.9551\n",
      "\n",
      "Epoch 00044: val_acc improved from 0.95485 to 0.95506, saving model to ./save_model/FCN_model.h5\n",
      "Epoch 45/50\n",
      "113/113 [==============================] - 49s 436ms/step - loss: 0.0617 - acc: 0.9767 - val_loss: 0.1520 - val_acc: 0.9548\n",
      "\n",
      "Epoch 00045: val_acc did not improve from 0.95506\n",
      "Epoch 46/50\n",
      "113/113 [==============================] - 49s 434ms/step - loss: 0.0613 - acc: 0.9768 - val_loss: 0.1535 - val_acc: 0.9548\n",
      "\n",
      "Epoch 00046: val_acc did not improve from 0.95506\n",
      "Epoch 47/50\n",
      "113/113 [==============================] - 46s 404ms/step - loss: 0.0608 - acc: 0.9770 - val_loss: 0.1538 - val_acc: 0.9550\n",
      "\n",
      "Epoch 00047: val_acc did not improve from 0.95506\n",
      "Epoch 48/50\n",
      "113/113 [==============================] - 45s 395ms/step - loss: 0.0603 - acc: 0.9772 - val_loss: 0.1548 - val_acc: 0.9545\n",
      "\n",
      "Epoch 00048: val_acc did not improve from 0.95506\n",
      "Epoch 49/50\n",
      "113/113 [==============================] - 46s 408ms/step - loss: 0.0603 - acc: 0.9772 - val_loss: 0.1566 - val_acc: 0.9549\n",
      "\n",
      "Epoch 00049: val_acc did not improve from 0.95506\n",
      "\n",
      "Epoch 00049: ReduceLROnPlateau reducing learning rate to 4.0000001899898055e-05.\n",
      "Epoch 50/50\n",
      "113/113 [==============================] - 49s 433ms/step - loss: 0.0594 - acc: 0.9776 - val_loss: 0.1560 - val_acc: 0.9549\n",
      "\n",
      "Epoch 00050: val_acc did not improve from 0.95506\n"
     ]
    }
   ],
   "source": [
    "history = model.train_generator(x_train, y_train, \n",
    "                                x_test, y_test, \n",
    "                                'FCN_model',\n",
    "                                epoch = 50,\n",
    "                                batch_size = BATCH_SIZE)"
   ]
  },
  {
   "cell_type": "code",
   "execution_count": 8,
   "metadata": {},
   "outputs": [
    {
     "data": {
      "image/png": "[encoded data removed]",
      "text/plain": [
       "<Figure size 432x288 with 1 Axes>"
      ]
     },
     "metadata": {
      "needs_background": "light"
     },
     "output_type": "display_data"
    }
   ],
   "source": [
    "plot_acc(history)"
   ]
  },
  {
   "cell_type": "code",
   "execution_count": 9,
   "metadata": {},
   "outputs": [
    {
     "data": {
      "image/png": "[encoded data removed]",
      "text/plain": [
       "<Figure size 432x288 with 1 Axes>"
      ]
     },
     "metadata": {
      "needs_background": "light"
     },
     "output_type": "display_data"
    }
   ],
   "source": [
    "plot_loss(history)"
   ]
  }
 ],
 "metadata": {
  "kernelspec": {
   "display_name": "Python [conda env:tensorflow35]",
   "language": "python",
   "name": "conda-env-tensorflow35-py"
  },
  "language_info": {
   "codemirror_mode": {
    "name": "ipython",
    "version": 3
   },
   "file_extension": ".py",
   "mimetype": "text/x-python",
   "name": "python",
   "nbconvert_exporter": "python",
   "pygments_lexer": "ipython3",
   "version": "3.5.6"
  }
 },
 "nbformat": 4,
 "nbformat_minor": 2
}
