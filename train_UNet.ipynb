{
 "cells": [
  {
   "cell_type": "code",
   "execution_count": 1,
   "metadata": {},
   "outputs": [
    {
     "name": "stderr",
     "output_type": "stream",
     "text": [
      "Using TensorFlow backend.\n"
     ]
    }
   ],
   "source": [
    "import numpy as np\n",
    "from data_utils import *"
   ]
  },
  {
   "cell_type": "markdown",
   "metadata": {},
   "source": [
    "# Load Image"
   ]
  },
  {
   "cell_type": "code",
   "execution_count": 2,
   "metadata": {},
   "outputs": [
    {
     "name": "stdout",
     "output_type": "stream",
     "text": [
      "(900, 384, 256, 3) (900, 384, 256, 4)\n",
      "(100, 384, 256, 3) (100, 384, 256, 4)\n"
     ]
    }
   ],
   "source": [
    "IMG_HEIGHT = 384\n",
    "IMG_WIDTH = 256\n",
    "BATCH_SIZE = 8\n",
    "\n",
    "x_train = np.load('dataset/x_train.npy').astype(np.float32)\n",
    "x_test = np.load('dataset/x_test.npy').astype(np.float32)\n",
    "y_train = np.load('dataset/y_train_onehot.npy').astype(np.float32)\n",
    "y_test = np.load('dataset/y_test_onehot.npy').astype(np.float32)\n",
    "\n",
    "print(x_train.shape, y_train.shape)\n",
    "print(x_test.shape, y_test.shape)"
   ]
  },
  {
   "cell_type": "markdown",
   "metadata": {},
   "source": [
    "# Load U-Net"
   ]
  },
  {
   "cell_type": "code",
   "execution_count": 3,
   "metadata": {},
   "outputs": [],
   "source": [
    "from models.UNet import *"
   ]
  },
  {
   "cell_type": "code",
   "execution_count": 4,
   "metadata": {},
   "outputs": [],
   "source": [
    "model = UNet(img_shape = x_train[0].shape, num_of_class = 4,learning_rate = 1e-3)"
   ]
  },
  {
   "cell_type": "code",
   "execution_count": 5,
   "metadata": {
    "scrolled": false
   },
   "outputs": [
    {
     "name": "stdout",
     "output_type": "stream",
     "text": [
      "__________________________________________________________________________________________________\n",
      "Layer (type)                    Output Shape         Param #     Connected to                     \n",
      "==================================================================================================\n",
      "input_1 (InputLayer)            (None, 384, 256, 3)  0                                            \n",
      "__________________________________________________________________________________________________\n",
      "conv2d_1 (Conv2D)               (None, 384, 256, 64) 1792        input_1[0][0]                    \n",
      "__________________________________________________________________________________________________\n",
      "conv2d_2 (Conv2D)               (None, 384, 256, 64) 36928       conv2d_1[0][0]                   \n",
      "__________________________________________________________________________________________________\n",
      "max_pooling2d_1 (MaxPooling2D)  (None, 192, 128, 64) 0           conv2d_2[0][0]                   \n",
      "__________________________________________________________________________________________________\n",
      "conv2d_3 (Conv2D)               (None, 192, 128, 128 73856       max_pooling2d_1[0][0]            \n",
      "__________________________________________________________________________________________________\n",
      "conv2d_4 (Conv2D)               (None, 192, 128, 128 147584      conv2d_3[0][0]                   \n",
      "__________________________________________________________________________________________________\n",
      "max_pooling2d_2 (MaxPooling2D)  (None, 96, 64, 128)  0           conv2d_4[0][0]                   \n",
      "__________________________________________________________________________________________________\n",
      "conv2d_5 (Conv2D)               (None, 96, 64, 256)  295168      max_pooling2d_2[0][0]            \n",
      "__________________________________________________________________________________________________\n",
      "conv2d_6 (Conv2D)               (None, 96, 64, 256)  590080      conv2d_5[0][0]                   \n",
      "__________________________________________________________________________________________________\n",
      "max_pooling2d_3 (MaxPooling2D)  (None, 48, 32, 256)  0           conv2d_6[0][0]                   \n",
      "__________________________________________________________________________________________________\n",
      "conv2d_7 (Conv2D)               (None, 48, 32, 512)  1180160     max_pooling2d_3[0][0]            \n",
      "__________________________________________________________________________________________________\n",
      "conv2d_8 (Conv2D)               (None, 48, 32, 512)  2359808     conv2d_7[0][0]                   \n",
      "__________________________________________________________________________________________________\n",
      "max_pooling2d_4 (MaxPooling2D)  (None, 24, 16, 512)  0           conv2d_8[0][0]                   \n",
      "__________________________________________________________________________________________________\n",
      "conv2d_9 (Conv2D)               (None, 24, 16, 1024) 4719616     max_pooling2d_4[0][0]            \n",
      "__________________________________________________________________________________________________\n",
      "dropout_1 (Dropout)             (None, 24, 16, 1024) 0           conv2d_9[0][0]                   \n",
      "__________________________________________________________________________________________________\n",
      "conv2d_10 (Conv2D)              (None, 24, 16, 1024) 9438208     dropout_1[0][0]                  \n",
      "__________________________________________________________________________________________________\n",
      "dropout_2 (Dropout)             (None, 24, 16, 1024) 0           conv2d_10[0][0]                  \n",
      "__________________________________________________________________________________________________\n",
      "conv2d_transpose_1 (Conv2DTrans (None, 48, 32, 512)  4719104     dropout_2[0][0]                  \n",
      "__________________________________________________________________________________________________\n",
      "concatenate_1 (Concatenate)     (None, 48, 32, 1024) 0           conv2d_transpose_1[0][0]         \n",
      "                                                                 conv2d_8[0][0]                   \n",
      "__________________________________________________________________________________________________\n",
      "conv2d_11 (Conv2D)              (None, 48, 32, 512)  4719104     concatenate_1[0][0]              \n",
      "__________________________________________________________________________________________________\n",
      "conv2d_12 (Conv2D)              (None, 48, 32, 512)  2359808     conv2d_11[0][0]                  \n",
      "__________________________________________________________________________________________________\n",
      "conv2d_transpose_2 (Conv2DTrans (None, 96, 64, 256)  1179904     conv2d_12[0][0]                  \n",
      "__________________________________________________________________________________________________\n",
      "concatenate_2 (Concatenate)     (None, 96, 64, 512)  0           conv2d_transpose_2[0][0]         \n",
      "                                                                 conv2d_6[0][0]                   \n",
      "__________________________________________________________________________________________________\n",
      "conv2d_13 (Conv2D)              (None, 96, 64, 256)  1179904     concatenate_2[0][0]              \n",
      "__________________________________________________________________________________________________\n",
      "conv2d_14 (Conv2D)              (None, 96, 64, 256)  590080      conv2d_13[0][0]                  \n",
      "__________________________________________________________________________________________________\n",
      "conv2d_transpose_3 (Conv2DTrans (None, 192, 128, 128 295040      conv2d_14[0][0]                  \n",
      "__________________________________________________________________________________________________\n",
      "concatenate_3 (Concatenate)     (None, 192, 128, 256 0           conv2d_transpose_3[0][0]         \n",
      "                                                                 conv2d_4[0][0]                   \n",
      "__________________________________________________________________________________________________\n",
      "conv2d_15 (Conv2D)              (None, 192, 128, 128 295040      concatenate_3[0][0]              \n",
      "__________________________________________________________________________________________________\n",
      "conv2d_16 (Conv2D)              (None, 192, 128, 128 147584      conv2d_15[0][0]                  \n",
      "__________________________________________________________________________________________________\n",
      "conv2d_transpose_4 (Conv2DTrans (None, 384, 256, 64) 73792       conv2d_16[0][0]                  \n",
      "__________________________________________________________________________________________________\n",
      "concatenate_4 (Concatenate)     (None, 384, 256, 128 0           conv2d_transpose_4[0][0]         \n",
      "                                                                 conv2d_2[0][0]                   \n",
      "__________________________________________________________________________________________________\n",
      "conv2d_17 (Conv2D)              (None, 384, 256, 64) 73792       concatenate_4[0][0]              \n",
      "__________________________________________________________________________________________________\n",
      "conv2d_18 (Conv2D)              (None, 384, 256, 64) 36928       conv2d_17[0][0]                  \n",
      "__________________________________________________________________________________________________\n",
      "conv2d_19 (Conv2D)              (None, 384, 256, 4)  260         conv2d_18[0][0]                  \n",
      "__________________________________________________________________________________________________\n",
      "activation_1 (Activation)       (None, 384, 256, 4)  0           conv2d_19[0][0]                  \n",
      "==================================================================================================\n",
      "Total params: 34,513,540\n",
      "Trainable params: 34,513,540\n",
      "Non-trainable params: 0\n",
      "__________________________________________________________________________________________________\n",
      "None\n"
     ]
    }
   ],
   "source": [
    "model.show_model()"
   ]
  },
  {
   "cell_type": "markdown",
   "metadata": {},
   "source": [
    "# Train model"
   ]
  },
  {
   "cell_type": "code",
   "execution_count": 6,
   "metadata": {
    "scrolled": false
   },
   "outputs": [
    {
     "name": "stdout",
     "output_type": "stream",
     "text": [
      "Epoch 1/50\n",
      "113/113 [==============================] - 93s 825ms/step - loss: 0.5796 - acc: 0.7998 - val_loss: 0.3829 - val_acc: 0.8618\n",
      "\n",
      "Epoch 00001: val_acc improved from -inf to 0.86176, saving model to ./save_model/UNet_model.h5\n",
      "Epoch 2/50\n",
      "113/113 [==============================] - 75s 666ms/step - loss: 0.2881 - acc: 0.8931 - val_loss: 0.2525 - val_acc: 0.9127\n",
      "\n",
      "Epoch 00002: val_acc improved from 0.86176 to 0.91268, saving model to ./save_model/UNet_model.h5\n",
      "Epoch 3/50\n",
      "113/113 [==============================] - 75s 668ms/step - loss: 0.2384 - acc: 0.9125 - val_loss: 0.2212 - val_acc: 0.9196\n",
      "\n",
      "Epoch 00003: val_acc improved from 0.91268 to 0.91957, saving model to ./save_model/UNet_model.h5\n",
      "Epoch 4/50\n",
      "113/113 [==============================] - 76s 669ms/step - loss: 0.2067 - acc: 0.9238 - val_loss: 0.2207 - val_acc: 0.9171\n",
      "\n",
      "Epoch 00004: val_acc did not improve from 0.91957\n",
      "Epoch 5/50\n",
      "113/113 [==============================] - 76s 673ms/step - loss: 0.1854 - acc: 0.9313 - val_loss: 0.1798 - val_acc: 0.9344\n",
      "\n",
      "Epoch 00005: val_acc improved from 0.91957 to 0.93439, saving model to ./save_model/UNet_model.h5\n",
      "Epoch 6/50\n",
      "113/113 [==============================] - 75s 667ms/step - loss: 0.1747 - acc: 0.9361 - val_loss: 0.1595 - val_acc: 0.9438\n",
      "\n",
      "Epoch 00006: val_acc improved from 0.93439 to 0.94377, saving model to ./save_model/UNet_model.h5\n",
      "Epoch 7/50\n",
      "113/113 [==============================] - 76s 669ms/step - loss: 0.1477 - acc: 0.9464 - val_loss: 0.1379 - val_acc: 0.9522\n",
      "\n",
      "Epoch 00007: val_acc improved from 0.94377 to 0.95215, saving model to ./save_model/UNet_model.h5\n",
      "Epoch 8/50\n",
      "113/113 [==============================] - 76s 673ms/step - loss: 0.1378 - acc: 0.9515 - val_loss: 0.1393 - val_acc: 0.9511\n",
      "\n",
      "Epoch 00008: val_acc did not improve from 0.95215\n",
      "Epoch 9/50\n",
      "113/113 [==============================] - 77s 678ms/step - loss: 0.1255 - acc: 0.9558 - val_loss: 0.1302 - val_acc: 0.9563\n",
      "\n",
      "Epoch 00009: val_acc improved from 0.95215 to 0.95626, saving model to ./save_model/UNet_model.h5\n",
      "Epoch 10/50\n",
      "113/113 [==============================] - 76s 675ms/step - loss: 0.1102 - acc: 0.9610 - val_loss: 0.1207 - val_acc: 0.9593\n",
      "\n",
      "Epoch 00010: val_acc improved from 0.95626 to 0.95934, saving model to ./save_model/UNet_model.h5\n",
      "Epoch 11/50\n",
      "113/113 [==============================] - 76s 675ms/step - loss: 0.1018 - acc: 0.9643 - val_loss: 0.0997 - val_acc: 0.9655\n",
      "\n",
      "Epoch 00011: val_acc improved from 0.95934 to 0.96552, saving model to ./save_model/UNet_model.h5\n",
      "Epoch 12/50\n",
      "113/113 [==============================] - 75s 668ms/step - loss: 0.1003 - acc: 0.9650 - val_loss: 0.1089 - val_acc: 0.9642\n",
      "\n",
      "Epoch 00012: val_acc did not improve from 0.96552\n",
      "Epoch 13/50\n",
      "113/113 [==============================] - 77s 682ms/step - loss: 0.0931 - acc: 0.9677 - val_loss: 0.1135 - val_acc: 0.9634\n",
      "\n",
      "Epoch 00013: val_acc did not improve from 0.96552\n",
      "Epoch 14/50\n",
      "113/113 [==============================] - 79s 700ms/step - loss: 0.0884 - acc: 0.9690 - val_loss: 0.0907 - val_acc: 0.9686\n",
      "\n",
      "Epoch 00014: val_acc improved from 0.96552 to 0.96859, saving model to ./save_model/UNet_model.h5\n",
      "Epoch 15/50\n",
      "113/113 [==============================] - 76s 669ms/step - loss: 0.0791 - acc: 0.9724 - val_loss: 0.0944 - val_acc: 0.9691\n",
      "\n",
      "Epoch 00015: val_acc improved from 0.96859 to 0.96911, saving model to ./save_model/UNet_model.h5\n",
      "Epoch 16/50\n",
      "113/113 [==============================] - 76s 672ms/step - loss: 0.0734 - acc: 0.9744 - val_loss: 0.0865 - val_acc: 0.9713\n",
      "\n",
      "Epoch 00016: val_acc improved from 0.96911 to 0.97130, saving model to ./save_model/UNet_model.h5\n",
      "Epoch 17/50\n",
      "113/113 [==============================] - 76s 672ms/step - loss: 0.0689 - acc: 0.9760 - val_loss: 0.0859 - val_acc: 0.9718\n",
      "\n",
      "Epoch 00017: val_acc improved from 0.97130 to 0.97178, saving model to ./save_model/UNet_model.h5\n",
      "Epoch 18/50\n",
      "113/113 [==============================] - 76s 671ms/step - loss: 0.0696 - acc: 0.9759 - val_loss: 0.0872 - val_acc: 0.9721\n",
      "\n",
      "Epoch 00018: val_acc improved from 0.97178 to 0.97207, saving model to ./save_model/UNet_model.h5\n",
      "Epoch 19/50\n",
      "113/113 [==============================] - 77s 679ms/step - loss: 0.0730 - acc: 0.9746 - val_loss: 0.0956 - val_acc: 0.9704\n",
      "\n",
      "Epoch 00019: val_acc did not improve from 0.97207\n",
      "Epoch 20/50\n",
      "113/113 [==============================] - 76s 674ms/step - loss: 0.0682 - acc: 0.9762 - val_loss: 0.0817 - val_acc: 0.9734\n",
      "\n",
      "Epoch 00020: val_acc improved from 0.97207 to 0.97335, saving model to ./save_model/UNet_model.h5\n",
      "Epoch 21/50\n",
      "113/113 [==============================] - 77s 680ms/step - loss: 0.0622 - acc: 0.9785 - val_loss: 0.0956 - val_acc: 0.9711\n",
      "\n",
      "Epoch 00021: val_acc did not improve from 0.97335\n",
      "Epoch 22/50\n",
      "113/113 [==============================] - 77s 679ms/step - loss: 0.0606 - acc: 0.9790 - val_loss: 0.0805 - val_acc: 0.9738\n",
      "\n",
      "Epoch 00022: val_acc improved from 0.97335 to 0.97377, saving model to ./save_model/UNet_model.h5\n",
      "Epoch 23/50\n",
      "113/113 [==============================] - 81s 719ms/step - loss: 0.0574 - acc: 0.9801 - val_loss: 0.0776 - val_acc: 0.9750\n",
      "\n",
      "Epoch 00023: val_acc improved from 0.97377 to 0.97504, saving model to ./save_model/UNet_model.h5\n",
      "Epoch 24/50\n",
      "113/113 [==============================] - 97s 856ms/step - loss: 0.0540 - acc: 0.9811 - val_loss: 0.0750 - val_acc: 0.9756\n",
      "\n",
      "Epoch 00024: val_acc improved from 0.97504 to 0.97561, saving model to ./save_model/UNet_model.h5\n",
      "Epoch 25/50\n",
      "113/113 [==============================] - 85s 749ms/step - loss: 0.0498 - acc: 0.9826 - val_loss: 0.0823 - val_acc: 0.9742\n",
      "\n",
      "Epoch 00025: val_acc did not improve from 0.97561\n",
      "Epoch 26/50\n",
      "113/113 [==============================] - 76s 671ms/step - loss: 0.0600 - acc: 0.9789 - val_loss: 0.0813 - val_acc: 0.9742\n",
      "\n",
      "Epoch 00026: val_acc did not improve from 0.97561\n",
      "Epoch 27/50\n",
      "113/113 [==============================] - 76s 670ms/step - loss: 0.0500 - acc: 0.9824 - val_loss: 0.0721 - val_acc: 0.9770\n",
      "\n",
      "Epoch 00027: val_acc improved from 0.97561 to 0.97695, saving model to ./save_model/UNet_model.h5\n",
      "Epoch 28/50\n",
      "113/113 [==============================] - 81s 713ms/step - loss: 0.0446 - acc: 0.9843 - val_loss: 0.0798 - val_acc: 0.9762\n",
      "\n",
      "Epoch 00028: val_acc did not improve from 0.97695\n",
      "Epoch 29/50\n",
      "113/113 [==============================] - 96s 847ms/step - loss: 0.0440 - acc: 0.9844 - val_loss: 0.0811 - val_acc: 0.9764\n",
      "\n",
      "Epoch 00029: val_acc did not improve from 0.97695\n",
      "Epoch 30/50\n",
      "113/113 [==============================] - 81s 718ms/step - loss: 0.0586 - acc: 0.9799 - val_loss: 0.0804 - val_acc: 0.9748\n",
      "\n",
      "Epoch 00030: val_acc did not improve from 0.97695\n",
      "Epoch 31/50\n",
      "113/113 [==============================] - 76s 669ms/step - loss: 0.0461 - acc: 0.9838 - val_loss: 0.0749 - val_acc: 0.9769\n",
      "\n",
      "Epoch 00031: val_acc did not improve from 0.97695\n",
      "Epoch 32/50\n",
      "113/113 [==============================] - 76s 671ms/step - loss: 0.0472 - acc: 0.9833 - val_loss: 0.0754 - val_acc: 0.9760\n",
      "\n",
      "Epoch 00032: val_acc did not improve from 0.97695\n",
      "\n",
      "Epoch 00032: ReduceLROnPlateau reducing learning rate to 0.00020000000949949026.\n",
      "Epoch 33/50\n",
      "113/113 [==============================] - 76s 671ms/step - loss: 0.0382 - acc: 0.9864 - val_loss: 0.0661 - val_acc: 0.9792\n",
      "\n",
      "Epoch 00033: val_acc improved from 0.97695 to 0.97919, saving model to ./save_model/UNet_model.h5\n",
      "Epoch 34/50\n",
      "113/113 [==============================] - 76s 671ms/step - loss: 0.0342 - acc: 0.9878 - val_loss: 0.0660 - val_acc: 0.9790\n",
      "\n",
      "Epoch 00034: val_acc did not improve from 0.97919\n",
      "Epoch 35/50\n",
      "113/113 [==============================] - 76s 671ms/step - loss: 0.0326 - acc: 0.9883 - val_loss: 0.0673 - val_acc: 0.9795\n",
      "\n",
      "Epoch 00035: val_acc improved from 0.97919 to 0.97947, saving model to ./save_model/UNet_model.h5\n",
      "Epoch 36/50\n",
      "113/113 [==============================] - 76s 670ms/step - loss: 0.0315 - acc: 0.9887 - val_loss: 0.0692 - val_acc: 0.9796\n",
      "\n",
      "Epoch 00036: val_acc improved from 0.97947 to 0.97965, saving model to ./save_model/UNet_model.h5\n",
      "Epoch 37/50\n",
      "113/113 [==============================] - 76s 670ms/step - loss: 0.0304 - acc: 0.9891 - val_loss: 0.0726 - val_acc: 0.9793\n",
      "\n",
      "Epoch 00037: val_acc did not improve from 0.97965\n",
      "Epoch 38/50\n",
      "113/113 [==============================] - 78s 689ms/step - loss: 0.0297 - acc: 0.9893 - val_loss: 0.0724 - val_acc: 0.9795\n",
      "\n",
      "Epoch 00038: val_acc did not improve from 0.97965\n",
      "Epoch 39/50\n"
     ]
    },
    {
     "name": "stdout",
     "output_type": "stream",
     "text": [
      "113/113 [==============================] - 76s 674ms/step - loss: 0.0287 - acc: 0.9897 - val_loss: 0.0734 - val_acc: 0.9794\n",
      "\n",
      "Epoch 00039: val_acc did not improve from 0.97965\n",
      "Epoch 40/50\n",
      "113/113 [==============================] - 76s 675ms/step - loss: 0.0281 - acc: 0.9899 - val_loss: 0.0768 - val_acc: 0.9791\n",
      "\n",
      "Epoch 00040: val_acc did not improve from 0.97965\n",
      "Epoch 41/50\n",
      "113/113 [==============================] - 76s 674ms/step - loss: 0.0273 - acc: 0.9902 - val_loss: 0.0750 - val_acc: 0.9792\n",
      "\n",
      "Epoch 00041: val_acc did not improve from 0.97965\n",
      "\n",
      "Epoch 00041: ReduceLROnPlateau reducing learning rate to 4.0000001899898055e-05.\n",
      "Epoch 42/50\n",
      "113/113 [==============================] - 76s 675ms/step - loss: 0.0260 - acc: 0.9906 - val_loss: 0.0757 - val_acc: 0.9795\n",
      "\n",
      "Epoch 00042: val_acc did not improve from 0.97965\n",
      "Epoch 43/50\n",
      "113/113 [==============================] - 76s 674ms/step - loss: 0.0255 - acc: 0.9908 - val_loss: 0.0771 - val_acc: 0.9795\n",
      "\n",
      "Epoch 00043: val_acc did not improve from 0.97965\n",
      "Epoch 44/50\n",
      "113/113 [==============================] - 76s 673ms/step - loss: 0.0253 - acc: 0.9908 - val_loss: 0.0792 - val_acc: 0.9793\n",
      "\n",
      "Epoch 00044: val_acc did not improve from 0.97965\n",
      "Epoch 45/50\n",
      "113/113 [==============================] - 76s 676ms/step - loss: 0.0250 - acc: 0.9909 - val_loss: 0.0778 - val_acc: 0.9794\n",
      "\n",
      "Epoch 00045: val_acc did not improve from 0.97965\n",
      "Epoch 46/50\n",
      "113/113 [==============================] - 78s 691ms/step - loss: 0.0248 - acc: 0.9910 - val_loss: 0.0791 - val_acc: 0.9794\n",
      "\n",
      "Epoch 00046: val_acc did not improve from 0.97965\n",
      "\n",
      "Epoch 00046: ReduceLROnPlateau reducing learning rate to 8.000000525498762e-06.\n",
      "Epoch 47/50\n",
      "113/113 [==============================] - 92s 816ms/step - loss: 0.0247 - acc: 0.9911 - val_loss: 0.0784 - val_acc: 0.9794\n",
      "\n",
      "Epoch 00047: val_acc did not improve from 0.97965\n",
      "Epoch 48/50\n",
      "113/113 [==============================] - 76s 674ms/step - loss: 0.0245 - acc: 0.9911 - val_loss: 0.0792 - val_acc: 0.9794\n",
      "\n",
      "Epoch 00048: val_acc did not improve from 0.97965\n",
      "Epoch 49/50\n",
      "113/113 [==============================] - 76s 676ms/step - loss: 0.0245 - acc: 0.9911 - val_loss: 0.0790 - val_acc: 0.9794\n",
      "\n",
      "Epoch 00049: val_acc did not improve from 0.97965\n",
      "Epoch 50/50\n",
      "113/113 [==============================] - 76s 677ms/step - loss: 0.0245 - acc: 0.9911 - val_loss: 0.0789 - val_acc: 0.9794\n",
      "\n",
      "Epoch 00050: val_acc did not improve from 0.97965\n"
     ]
    }
   ],
   "source": [
    "history = model.train_generator(x_train, y_train, \n",
    "                                x_test, y_test, \n",
    "                                'UNet_model',\n",
    "                                epoch = 50,\n",
    "                                batch_size = BATCH_SIZE)"
   ]
  },
  {
   "cell_type": "code",
   "execution_count": 7,
   "metadata": {},
   "outputs": [
    {
     "data": {
      "image/png": "[encoded data removed]",
      "text/plain": [
       "<Figure size 432x288 with 1 Axes>"
      ]
     },
     "metadata": {
      "needs_background": "light"
     },
     "output_type": "display_data"
    }
   ],
   "source": [
    "plot_acc(history)"
   ]
  },
  {
   "cell_type": "code",
   "execution_count": 8,
   "metadata": {},
   "outputs": [
    {
     "data": {
      "image/png": "[encoded data removed]",
      "text/plain": [
       "<Figure size 432x288 with 1 Axes>"
      ]
     },
     "metadata": {
      "needs_background": "light"
     },
     "output_type": "display_data"
    }
   ],
   "source": [
    "plot_loss(history)"
   ]
  }
 ],
 "metadata": {
  "kernelspec": {
   "display_name": "Python [conda env:tensorflow35]",
   "language": "python",
   "name": "conda-env-tensorflow35-py"
  },
  "language_info": {
   "codemirror_mode": {
    "name": "ipython",
    "version": 3
   },
   "file_extension": ".py",
   "mimetype": "text/x-python",
   "name": "python",
   "nbconvert_exporter": "python",
   "pygments_lexer": "ipython3",
   "version": "3.5.6"
  }
 },
 "nbformat": 4,
 "nbformat_minor": 2
}
