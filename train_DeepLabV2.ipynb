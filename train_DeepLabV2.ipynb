{
 "cells": [
  {
   "cell_type": "code",
   "execution_count": 1,
   "metadata": {},
   "outputs": [
    {
     "name": "stderr",
     "output_type": "stream",
     "text": [
      "Using TensorFlow backend.\n"
     ]
    }
   ],
   "source": [
    "import numpy as np\n",
    "from data_utils import *"
   ]
  },
  {
   "cell_type": "markdown",
   "metadata": {},
   "source": [
    "# Load Data"
   ]
  },
  {
   "cell_type": "code",
   "execution_count": 2,
   "metadata": {},
   "outputs": [
    {
     "name": "stdout",
     "output_type": "stream",
     "text": [
      "(900, 384, 256, 3) (900, 384, 256, 4)\n",
      "(100, 384, 256, 3) (100, 384, 256, 4)\n"
     ]
    }
   ],
   "source": [
    "IMG_HEIGHT = 384\n",
    "IMG_WIDTH = 256\n",
    "BATCH_SIZE = 8\n",
    "\n",
    "x_train = np.load('dataset/x_train.npy').astype(np.float32)\n",
    "x_test = np.load('dataset/x_test.npy').astype(np.float32)\n",
    "y_train = np.load('dataset/y_train_onehot.npy').astype(np.float32)\n",
    "y_test = np.load('dataset/y_test_onehot.npy').astype(np.float32)\n",
    "\n",
    "print(x_train.shape, y_train.shape)\n",
    "print(x_test.shape, y_test.shape)"
   ]
  },
  {
   "cell_type": "markdown",
   "metadata": {},
   "source": [
    "# Load DeepLab V2"
   ]
  },
  {
   "cell_type": "code",
   "execution_count": 3,
   "metadata": {},
   "outputs": [],
   "source": [
    "from models.DeepLabV2 import *"
   ]
  },
  {
   "cell_type": "code",
   "execution_count": 4,
   "metadata": {
    "scrolled": false
   },
   "outputs": [],
   "source": [
    "model = DeepLabV2(img_shape = x_train[0].shape, num_of_class = 4,learning_rate = 2e-4)"
   ]
  },
  {
   "cell_type": "code",
   "execution_count": 5,
   "metadata": {
    "scrolled": false
   },
   "outputs": [
    {
     "name": "stdout",
     "output_type": "stream",
     "text": [
      "__________________________________________________________________________________________________\n",
      "Layer (type)                    Output Shape         Param #     Connected to                     \n",
      "==================================================================================================\n",
      "input_1 (InputLayer)            (None, 384, 256, 3)  0                                            \n",
      "__________________________________________________________________________________________________\n",
      "block1_conv1 (Conv2D)           (None, 384, 256, 64) 1792        input_1[0][0]                    \n",
      "__________________________________________________________________________________________________\n",
      "block1_conv2 (Conv2D)           (None, 384, 256, 64) 36928       block1_conv1[0][0]               \n",
      "__________________________________________________________________________________________________\n",
      "block1_pool (MaxPooling2D)      (None, 192, 128, 64) 0           block1_conv2[0][0]               \n",
      "__________________________________________________________________________________________________\n",
      "block2_conv1 (Conv2D)           (None, 192, 128, 128 73856       block1_pool[0][0]                \n",
      "__________________________________________________________________________________________________\n",
      "block2_conv2 (Conv2D)           (None, 192, 128, 128 147584      block2_conv1[0][0]               \n",
      "__________________________________________________________________________________________________\n",
      "block2_pool (MaxPooling2D)      (None, 96, 64, 128)  0           block2_conv2[0][0]               \n",
      "__________________________________________________________________________________________________\n",
      "block3_conv1 (Conv2D)           (None, 96, 64, 256)  295168      block2_pool[0][0]                \n",
      "__________________________________________________________________________________________________\n",
      "block3_conv2 (Conv2D)           (None, 96, 64, 256)  590080      block3_conv1[0][0]               \n",
      "__________________________________________________________________________________________________\n",
      "block3_conv3 (Conv2D)           (None, 96, 64, 256)  590080      block3_conv2[0][0]               \n",
      "__________________________________________________________________________________________________\n",
      "block3_pool (MaxPooling2D)      (None, 48, 32, 256)  0           block3_conv3[0][0]               \n",
      "__________________________________________________________________________________________________\n",
      "block4_conv1 (Conv2D)           (None, 48, 32, 512)  1180160     block3_pool[0][0]                \n",
      "__________________________________________________________________________________________________\n",
      "block4_conv2 (Conv2D)           (None, 48, 32, 512)  2359808     block4_conv1[0][0]               \n",
      "__________________________________________________________________________________________________\n",
      "block4_conv3 (Conv2D)           (None, 48, 32, 512)  2359808     block4_conv2[0][0]               \n",
      "__________________________________________________________________________________________________\n",
      "block5atrous_conv1 (Conv2D)     (None, 48, 32, 512)  2359808     block4_conv3[0][0]               \n",
      "__________________________________________________________________________________________________\n",
      "block5atrous_conv2 (Conv2D)     (None, 48, 32, 512)  2359808     block5atrous_conv1[0][0]         \n",
      "__________________________________________________________________________________________________\n",
      "block5atrous_conv3 (Conv2D)     (None, 48, 32, 512)  2359808     block5atrous_conv2[0][0]         \n",
      "__________________________________________________________________________________________________\n",
      "ASPP0 (Conv2D)                  (None, 48, 32, 1024) 4719616     block5atrous_conv3[0][0]         \n",
      "__________________________________________________________________________________________________\n",
      "ASPP1 (Conv2D)                  (None, 48, 32, 1024) 4719616     block5atrous_conv3[0][0]         \n",
      "__________________________________________________________________________________________________\n",
      "ASPP2 (Conv2D)                  (None, 48, 32, 1024) 4719616     block5atrous_conv3[0][0]         \n",
      "__________________________________________________________________________________________________\n",
      "ASPP3 (Conv2D)                  (None, 48, 32, 1024) 4719616     block5atrous_conv3[0][0]         \n",
      "__________________________________________________________________________________________________\n",
      "ASPP_conv01 (Conv2D)            (None, 48, 32, 1024) 1049600     ASPP0[0][0]                      \n",
      "__________________________________________________________________________________________________\n",
      "ASPP_conv11 (Conv2D)            (None, 48, 32, 1024) 1049600     ASPP1[0][0]                      \n",
      "__________________________________________________________________________________________________\n",
      "ASPP_conv21 (Conv2D)            (None, 48, 32, 1024) 1049600     ASPP2[0][0]                      \n",
      "__________________________________________________________________________________________________\n",
      "ASPP_conv31 (Conv2D)            (None, 48, 32, 1024) 1049600     ASPP3[0][0]                      \n",
      "__________________________________________________________________________________________________\n",
      "ASPP_conv02 (Conv2D)            (None, 48, 32, 4)    4100        ASPP_conv01[0][0]                \n",
      "__________________________________________________________________________________________________\n",
      "ASPP_conv12 (Conv2D)            (None, 48, 32, 4)    4100        ASPP_conv11[0][0]                \n",
      "__________________________________________________________________________________________________\n",
      "ASPP_conv22 (Conv2D)            (None, 48, 32, 4)    4100        ASPP_conv21[0][0]                \n",
      "__________________________________________________________________________________________________\n",
      "ASPP_conv32 (Conv2D)            (None, 48, 32, 4)    4100        ASPP_conv31[0][0]                \n",
      "__________________________________________________________________________________________________\n",
      "add_1 (Add)                     (None, 48, 32, 4)    0           ASPP_conv02[0][0]                \n",
      "                                                                 ASPP_conv12[0][0]                \n",
      "                                                                 ASPP_conv22[0][0]                \n",
      "                                                                 ASPP_conv32[0][0]                \n",
      "__________________________________________________________________________________________________\n",
      "aspp_upsampling (Conv2DTranspos (None, 384, 256, 4)  4100        add_1[0][0]                      \n",
      "__________________________________________________________________________________________________\n",
      "conv2d_1 (Conv2D)               (None, 384, 256, 4)  20          aspp_upsampling[0][0]            \n",
      "__________________________________________________________________________________________________\n",
      "activation_1 (Activation)       (None, 384, 256, 4)  0           conv2d_1[0][0]                   \n",
      "==================================================================================================\n",
      "Total params: 37,812,072\n",
      "Trainable params: 37,812,072\n",
      "Non-trainable params: 0\n",
      "__________________________________________________________________________________________________\n",
      "None\n"
     ]
    }
   ],
   "source": [
    "model.show_model()"
   ]
  },
  {
   "cell_type": "markdown",
   "metadata": {},
   "source": [
    "# Train model"
   ]
  },
  {
   "cell_type": "code",
   "execution_count": 6,
   "metadata": {
    "scrolled": false
   },
   "outputs": [
    {
     "name": "stdout",
     "output_type": "stream",
     "text": [
      "Epoch 1/50\n",
      "113/113 [==============================] - 134s 1s/step - loss: 0.9636 - acc: 0.5906 - val_loss: 0.5444 - val_acc: 0.7142\n",
      "\n",
      "Epoch 00001: val_acc improved from -inf to 0.71419, saving model to ./save_model/DeepLabV2_model.h5\n",
      "Epoch 2/50\n",
      "113/113 [==============================] - 95s 845ms/step - loss: 0.4813 - acc: 0.8158 - val_loss: 0.4293 - val_acc: 0.8819\n",
      "\n",
      "Epoch 00002: val_acc improved from 0.71419 to 0.88191, saving model to ./save_model/DeepLabV2_model.h5\n",
      "Epoch 3/50\n",
      "113/113 [==============================] - 82s 722ms/step - loss: 0.4098 - acc: 0.8678 - val_loss: 0.3897 - val_acc: 0.8125\n",
      "\n",
      "Epoch 00003: val_acc did not improve from 0.88191\n",
      "Epoch 4/50\n",
      "113/113 [==============================] - 76s 670ms/step - loss: 0.3460 - acc: 0.8453 - val_loss: 0.2980 - val_acc: 0.8771\n",
      "\n",
      "Epoch 00004: val_acc did not improve from 0.88191\n",
      "Epoch 5/50\n",
      "113/113 [==============================] - 77s 683ms/step - loss: 0.2543 - acc: 0.8996 - val_loss: 0.2449 - val_acc: 0.8997\n",
      "\n",
      "Epoch 00005: val_acc improved from 0.88191 to 0.89968, saving model to ./save_model/DeepLabV2_model.h5\n",
      "Epoch 6/50\n",
      "113/113 [==============================] - 76s 672ms/step - loss: 0.2080 - acc: 0.9143 - val_loss: 0.2065 - val_acc: 0.9160\n",
      "\n",
      "Epoch 00006: val_acc improved from 0.89968 to 0.91598, saving model to ./save_model/DeepLabV2_model.h5\n",
      "Epoch 7/50\n",
      "113/113 [==============================] - 76s 669ms/step - loss: 0.1835 - acc: 0.9207 - val_loss: 0.1896 - val_acc: 0.9174\n",
      "\n",
      "Epoch 00007: val_acc improved from 0.91598 to 0.91740, saving model to ./save_model/DeepLabV2_model.h5\n",
      "Epoch 8/50\n",
      "113/113 [==============================] - 77s 680ms/step - loss: 0.1695 - acc: 0.9248 - val_loss: 0.1835 - val_acc: 0.9214\n",
      "\n",
      "Epoch 00008: val_acc improved from 0.91740 to 0.92142, saving model to ./save_model/DeepLabV2_model.h5\n",
      "Epoch 9/50\n",
      "113/113 [==============================] - 76s 673ms/step - loss: 0.1588 - acc: 0.9287 - val_loss: 0.1662 - val_acc: 0.9271\n",
      "\n",
      "Epoch 00009: val_acc improved from 0.92142 to 0.92707, saving model to ./save_model/DeepLabV2_model.h5\n",
      "Epoch 10/50\n",
      "113/113 [==============================] - 76s 673ms/step - loss: 0.1388 - acc: 0.9406 - val_loss: 0.1461 - val_acc: 0.9420\n",
      "\n",
      "Epoch 00010: val_acc improved from 0.92707 to 0.94196, saving model to ./save_model/DeepLabV2_model.h5\n",
      "Epoch 11/50\n",
      "113/113 [==============================] - 75s 662ms/step - loss: 0.1228 - acc: 0.9504 - val_loss: 0.1459 - val_acc: 0.9456\n",
      "\n",
      "Epoch 00011: val_acc improved from 0.94196 to 0.94556, saving model to ./save_model/DeepLabV2_model.h5\n",
      "Epoch 12/50\n",
      "113/113 [==============================] - 75s 661ms/step - loss: 0.1122 - acc: 0.9552 - val_loss: 0.1406 - val_acc: 0.9471\n",
      "\n",
      "Epoch 00012: val_acc improved from 0.94556 to 0.94706, saving model to ./save_model/DeepLabV2_model.h5\n",
      "Epoch 13/50\n",
      "113/113 [==============================] - 75s 661ms/step - loss: 0.1076 - acc: 0.9571 - val_loss: 0.1255 - val_acc: 0.9527\n",
      "\n",
      "Epoch 00013: val_acc improved from 0.94706 to 0.95269, saving model to ./save_model/DeepLabV2_model.h5\n",
      "Epoch 14/50\n",
      "113/113 [==============================] - 83s 732ms/step - loss: 0.0962 - acc: 0.9607 - val_loss: 0.1228 - val_acc: 0.9531\n",
      "\n",
      "Epoch 00014: val_acc improved from 0.95269 to 0.95311, saving model to ./save_model/DeepLabV2_model.h5\n",
      "Epoch 15/50\n",
      "113/113 [==============================] - 96s 849ms/step - loss: 0.0905 - acc: 0.9626 - val_loss: 0.1242 - val_acc: 0.9543\n",
      "\n",
      "Epoch 00015: val_acc improved from 0.95311 to 0.95428, saving model to ./save_model/DeepLabV2_model.h5\n",
      "Epoch 16/50\n",
      "113/113 [==============================] - 95s 841ms/step - loss: 0.0838 - acc: 0.9649 - val_loss: 0.1228 - val_acc: 0.9554\n",
      "\n",
      "Epoch 00016: val_acc improved from 0.95428 to 0.95537, saving model to ./save_model/DeepLabV2_model.h5\n",
      "Epoch 17/50\n",
      "113/113 [==============================] - 96s 851ms/step - loss: 0.0782 - acc: 0.9669 - val_loss: 0.1216 - val_acc: 0.9580\n",
      "\n",
      "Epoch 00017: val_acc improved from 0.95537 to 0.95795, saving model to ./save_model/DeepLabV2_model.h5\n",
      "Epoch 18/50\n",
      "113/113 [==============================] - 95s 844ms/step - loss: 0.0724 - acc: 0.9690 - val_loss: 0.1198 - val_acc: 0.9586\n",
      "\n",
      "Epoch 00018: val_acc improved from 0.95795 to 0.95857, saving model to ./save_model/DeepLabV2_model.h5\n",
      "Epoch 19/50\n",
      "113/113 [==============================] - 85s 755ms/step - loss: 0.0764 - acc: 0.9683 - val_loss: 0.1172 - val_acc: 0.9583\n",
      "\n",
      "Epoch 00019: val_acc did not improve from 0.95857\n",
      "Epoch 20/50\n",
      "113/113 [==============================] - 76s 673ms/step - loss: 0.0650 - acc: 0.9734 - val_loss: 0.1057 - val_acc: 0.9639\n",
      "\n",
      "Epoch 00020: val_acc improved from 0.95857 to 0.96388, saving model to ./save_model/DeepLabV2_model.h5\n",
      "Epoch 21/50\n",
      "113/113 [==============================] - 76s 674ms/step - loss: 0.0545 - acc: 0.9779 - val_loss: 0.1070 - val_acc: 0.9665\n",
      "\n",
      "Epoch 00021: val_acc improved from 0.96388 to 0.96648, saving model to ./save_model/DeepLabV2_model.h5\n",
      "Epoch 22/50\n",
      "113/113 [==============================] - 78s 688ms/step - loss: 0.0484 - acc: 0.9811 - val_loss: 0.1041 - val_acc: 0.9676\n",
      "\n",
      "Epoch 00022: val_acc improved from 0.96648 to 0.96761, saving model to ./save_model/DeepLabV2_model.h5\n",
      "Epoch 23/50\n",
      "113/113 [==============================] - 77s 686ms/step - loss: 0.0433 - acc: 0.9832 - val_loss: 0.1015 - val_acc: 0.9694\n",
      "\n",
      "Epoch 00023: val_acc improved from 0.96761 to 0.96941, saving model to ./save_model/DeepLabV2_model.h5\n",
      "Epoch 24/50\n",
      "113/113 [==============================] - 77s 684ms/step - loss: 0.0394 - acc: 0.9846 - val_loss: 0.1132 - val_acc: 0.9693\n",
      "\n",
      "Epoch 00024: val_acc did not improve from 0.96941\n",
      "Epoch 25/50\n",
      "113/113 [==============================] - 76s 674ms/step - loss: 0.0392 - acc: 0.9846 - val_loss: 0.1045 - val_acc: 0.9702\n",
      "\n",
      "Epoch 00025: val_acc improved from 0.96941 to 0.97022, saving model to ./save_model/DeepLabV2_model.h5\n",
      "Epoch 26/50\n",
      "113/113 [==============================] - 76s 672ms/step - loss: 0.0344 - acc: 0.9863 - val_loss: 0.1027 - val_acc: 0.9701\n",
      "\n",
      "Epoch 00026: val_acc did not improve from 0.97022\n",
      "Epoch 27/50\n",
      "113/113 [==============================] - 80s 705ms/step - loss: 0.0316 - acc: 0.9873 - val_loss: 0.1084 - val_acc: 0.9702\n",
      "\n",
      "Epoch 00027: val_acc did not improve from 0.97022\n",
      "Epoch 28/50\n",
      "113/113 [==============================] - 96s 848ms/step - loss: 0.0295 - acc: 0.9880 - val_loss: 0.1037 - val_acc: 0.9714\n",
      "\n",
      "Epoch 00028: val_acc improved from 0.97022 to 0.97138, saving model to ./save_model/DeepLabV2_model.h5\n",
      "Epoch 29/50\n",
      "113/113 [==============================] - 97s 855ms/step - loss: 0.0282 - acc: 0.9885 - val_loss: 0.1052 - val_acc: 0.9716\n",
      "\n",
      "Epoch 00029: val_acc improved from 0.97138 to 0.97155, saving model to ./save_model/DeepLabV2_model.h5\n",
      "Epoch 30/50\n",
      "113/113 [==============================] - 97s 861ms/step - loss: 0.0273 - acc: 0.9888 - val_loss: 0.1113 - val_acc: 0.9710\n",
      "\n",
      "Epoch 00030: val_acc did not improve from 0.97155\n",
      "Epoch 31/50\n",
      "113/113 [==============================] - 97s 859ms/step - loss: 0.0263 - acc: 0.9891 - val_loss: 0.1172 - val_acc: 0.9717\n",
      "\n",
      "Epoch 00031: val_acc improved from 0.97155 to 0.97169, saving model to ./save_model/DeepLabV2_model.h5\n",
      "Epoch 32/50\n",
      "113/113 [==============================] - 92s 813ms/step - loss: 0.0256 - acc: 0.9894 - val_loss: 0.1088 - val_acc: 0.9716\n",
      "\n",
      "Epoch 00032: val_acc did not improve from 0.97169\n",
      "Epoch 33/50\n",
      "113/113 [==============================] - 96s 851ms/step - loss: 0.0250 - acc: 0.9897 - val_loss: 0.1165 - val_acc: 0.9710\n",
      "\n",
      "Epoch 00033: val_acc did not improve from 0.97169\n",
      "Epoch 34/50\n",
      "113/113 [==============================] - 75s 662ms/step - loss: 0.0243 - acc: 0.9900 - val_loss: 0.1204 - val_acc: 0.9717\n",
      "\n",
      "Epoch 00034: val_acc did not improve from 0.97169\n",
      "Epoch 35/50\n",
      "113/113 [==============================] - 75s 666ms/step - loss: 0.0231 - acc: 0.9905 - val_loss: 0.1164 - val_acc: 0.9718\n",
      "\n",
      "Epoch 00035: val_acc improved from 0.97169 to 0.97182, saving model to ./save_model/DeepLabV2_model.h5\n",
      "Epoch 36/50\n",
      "113/113 [==============================] - 76s 668ms/step - loss: 0.0220 - acc: 0.9909 - val_loss: 0.1134 - val_acc: 0.9721\n",
      "\n",
      "Epoch 00036: val_acc improved from 0.97182 to 0.97210, saving model to ./save_model/DeepLabV2_model.h5\n",
      "Epoch 37/50\n",
      "113/113 [==============================] - 76s 670ms/step - loss: 0.0496 - acc: 0.9810 - val_loss: 0.1084 - val_acc: 0.9664\n"
     ]
    },
    {
     "name": "stdout",
     "output_type": "stream",
     "text": [
      "\n",
      "Epoch 00037: val_acc did not improve from 0.97210\n",
      "Epoch 38/50\n",
      "113/113 [==============================] - 93s 826ms/step - loss: 0.0377 - acc: 0.9850 - val_loss: 0.1073 - val_acc: 0.9714\n",
      "\n",
      "Epoch 00038: val_acc did not improve from 0.97210\n",
      "Epoch 39/50\n",
      "113/113 [==============================] - 81s 716ms/step - loss: 0.0235 - acc: 0.9903 - val_loss: 0.1132 - val_acc: 0.9723\n",
      "\n",
      "Epoch 00039: val_acc improved from 0.97210 to 0.97235, saving model to ./save_model/DeepLabV2_model.h5\n",
      "Epoch 40/50\n",
      "113/113 [==============================] - 75s 666ms/step - loss: 0.0200 - acc: 0.9917 - val_loss: 0.1228 - val_acc: 0.9727\n",
      "\n",
      "Epoch 00040: val_acc improved from 0.97235 to 0.97267, saving model to ./save_model/DeepLabV2_model.h5\n",
      "Epoch 41/50\n",
      "113/113 [==============================] - 76s 673ms/step - loss: 0.0185 - acc: 0.9923 - val_loss: 0.1244 - val_acc: 0.9725\n",
      "\n",
      "Epoch 00041: val_acc did not improve from 0.97267\n",
      "Epoch 42/50\n",
      "113/113 [==============================] - 84s 743ms/step - loss: 0.0182 - acc: 0.9924 - val_loss: 0.1225 - val_acc: 0.9725\n",
      "\n",
      "Epoch 00042: val_acc did not improve from 0.97267\n",
      "Epoch 43/50\n",
      "113/113 [==============================] - 96s 845ms/step - loss: 0.0180 - acc: 0.9925 - val_loss: 0.1237 - val_acc: 0.9726\n",
      "\n",
      "Epoch 00043: val_acc did not improve from 0.97267\n",
      "Epoch 44/50\n",
      "113/113 [==============================] - 85s 752ms/step - loss: 0.0182 - acc: 0.9924 - val_loss: 0.1266 - val_acc: 0.9727\n",
      "\n",
      "Epoch 00044: val_acc did not improve from 0.97267\n",
      "Epoch 45/50\n",
      "113/113 [==============================] - 75s 666ms/step - loss: 0.0180 - acc: 0.9925 - val_loss: 0.1240 - val_acc: 0.9726\n",
      "\n",
      "Epoch 00045: val_acc did not improve from 0.97267\n",
      "\n",
      "Epoch 00045: ReduceLROnPlateau reducing learning rate to 3.9999998989515007e-05.\n",
      "Epoch 46/50\n",
      "113/113 [==============================] - 78s 689ms/step - loss: 0.0163 - acc: 0.9932 - val_loss: 0.1280 - val_acc: 0.9731\n",
      "\n",
      "Epoch 00046: val_acc improved from 0.97267 to 0.97313, saving model to ./save_model/DeepLabV2_model.h5\n",
      "Epoch 47/50\n",
      "113/113 [==============================] - 80s 711ms/step - loss: 0.0149 - acc: 0.9938 - val_loss: 0.1358 - val_acc: 0.9730\n",
      "\n",
      "Epoch 00047: val_acc did not improve from 0.97313\n",
      "Epoch 48/50\n",
      "113/113 [==============================] - 76s 672ms/step - loss: 0.0143 - acc: 0.9940 - val_loss: 0.1404 - val_acc: 0.9730\n",
      "\n",
      "Epoch 00048: val_acc did not improve from 0.97313\n",
      "Epoch 49/50\n",
      "113/113 [==============================] - 76s 669ms/step - loss: 0.0139 - acc: 0.9942 - val_loss: 0.1445 - val_acc: 0.9729\n",
      "\n",
      "Epoch 00049: val_acc did not improve from 0.97313\n",
      "Epoch 50/50\n",
      "113/113 [==============================] - 92s 811ms/step - loss: 0.0135 - acc: 0.9943 - val_loss: 0.1449 - val_acc: 0.9729\n",
      "\n",
      "Epoch 00050: val_acc did not improve from 0.97313\n"
     ]
    }
   ],
   "source": [
    "history = model.train_generator(x_train, y_train, \n",
    "                                x_test, y_test, \n",
    "                                'DeepLabV2_model',\n",
    "                                epoch = 50,\n",
    "                                batch_size = BATCH_SIZE)"
   ]
  },
  {
   "cell_type": "code",
   "execution_count": 7,
   "metadata": {},
   "outputs": [
    {
     "data": {
      "image/png": "[encoded data removed]",
      "text/plain": [
       "<Figure size 432x288 with 1 Axes>"
      ]
     },
     "metadata": {
      "needs_background": "light"
     },
     "output_type": "display_data"
    }
   ],
   "source": [
    "plot_acc(history)"
   ]
  },
  {
   "cell_type": "code",
   "execution_count": 8,
   "metadata": {},
   "outputs": [
    {
     "data": {
      "image/png": "[encoded data removed]",
      "text/plain": [
       "<Figure size 432x288 with 1 Axes>"
      ]
     },
     "metadata": {
      "needs_background": "light"
     },
     "output_type": "display_data"
    }
   ],
   "source": [
    "plot_loss(history)"
   ]
  },
  {
   "cell_type": "code",
   "execution_count": null,
   "metadata": {},
   "outputs": [],
   "source": []
  }
 ],
 "metadata": {
  "kernelspec": {
   "display_name": "Python [conda env:tensorflow35]",
   "language": "python",
   "name": "conda-env-tensorflow35-py"
  },
  "language_info": {
   "codemirror_mode": {
    "name": "ipython",
    "version": 3
   },
   "file_extension": ".py",
   "mimetype": "text/x-python",
   "name": "python",
   "nbconvert_exporter": "python",
   "pygments_lexer": "ipython3",
   "version": "3.5.6"
  }
 },
 "nbformat": 4,
 "nbformat_minor": 2
}
